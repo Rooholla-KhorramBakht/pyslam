{
 "cells": [
  {
   "cell_type": "code",
   "execution_count": 130,
   "metadata": {
    "collapsed": false
   },
   "outputs": [],
   "source": [
    "%matplotlib inline\n",
    "\n",
    "import numpy as np\n",
    "import matplotlib.pyplot as plt\n",
    "\n",
    "from pyslam.problem import Problem, Options"
   ]
  },
  {
   "cell_type": "markdown",
   "metadata": {},
   "source": [
    "# Define your model and create a cost function\n",
    "In this example, we want to fit a cubic polynomial of the form $y = ax^3 + bx^2 + cx + d$ to data. For later convenience, we'll create a simple method to evaluate the polynomial, although this isn't really necessary."
   ]
  },
  {
   "cell_type": "code",
   "execution_count": 131,
   "metadata": {
    "collapsed": false
   },
   "outputs": [],
   "source": [
    "def evaluate_cubic(a,b,c,d,x):\n",
    "    return a * x**3 + b * x**2 + c * x + d"
   ]
  },
  {
   "cell_type": "markdown",
   "metadata": {},
   "source": [
    "Now let's define a new class for our cost function called `CubicCost`. Any cost function object must store the input and expected output data ($x$ and $y$ in this case), and implement a method called `evaluate` that computes the estimation error and its jacobian based on a set of model parameters."
   ]
  },
  {
   "cell_type": "code",
   "execution_count": 132,
   "metadata": {
    "collapsed": true
   },
   "outputs": [],
   "source": [
    "class CubicCost:\n",
    "    def __init__(self, x, y):\n",
    "        self.x = np.array([x])\n",
    "        self.y = np.array([y])\n",
    "        \n",
    "    def evaluate(self, params, compute_jacobians=None):\n",
    "        # Evaluate the model using the given parameters\n",
    "        a, b, c, d = params\n",
    "        y_predicted = evaluate_cubic(a, b, c, d, self.x)\n",
    "        \n",
    "        # The residual or error is the difference between the predicted and measured output variable\n",
    "        residual = y_predicted - self.y\n",
    "        \n",
    "        # Compute the jacobian of the residual w.r.t. the model parameters if requested\n",
    "        if compute_jacobians:\n",
    "            jacobians = [None for _ in enumerate(params)]\n",
    "            \n",
    "            if compute_jacobians[0]:\n",
    "                jacobians[0] = self.x**3 # d residual / d a\n",
    "            if compute_jacobians[1]:\n",
    "                jacobians[1] = self.x**2 # d residual / d b\n",
    "            if compute_jacobians[2]:\n",
    "                jacobians[2] = self.x    # d residual / d c\n",
    "            if compute_jacobians[3]:\n",
    "                jacobians[3] = 1.        # d residual / d d\n",
    "\n",
    "            return residual, np.squeeze(jacobians)\n",
    "        \n",
    "        return residual"
   ]
  },
  {
   "cell_type": "markdown",
   "metadata": {},
   "source": [
    "# Generate some test data\n",
    "\n",
    "Note that `pyslam` deals with parameters as dictionaries, so we will create a `params_true` dictionary for later convenience."
   ]
  },
  {
   "cell_type": "code",
   "execution_count": 133,
   "metadata": {
    "collapsed": false
   },
   "outputs": [],
   "source": [
    "params_true = {'a': 2., 'b': 4., 'c': -4., 'd': 0.}\n",
    "x_data = np.linspace(-5,5,10)\n",
    "y_data = evaluate_cubic(params_true['a'],params_true['b'],params_true['c'],params_true['d'],x_data)"
   ]
  },
  {
   "cell_type": "markdown",
   "metadata": {},
   "source": [
    "# Set up the optimization problem\n",
    "\n",
    "There are three steps to setting up an optimization problem in `pyslam`:\n",
    "\n",
    "1. Create one or more cost function objects for your data. This will vary depending on how you define your cost function classes. To keep it simple, we'll create a `CubicCost` object for each $(x,y)$ pair.\n",
    "2. Add each cost function object to the `Problem` and specify the names of the parameters it depends on. `pyslam` deals with parameters as dictionaries, so each parameter must have a unique identifier.\n",
    "3. Give the `Problem` a dictionary of initial guesses for each parameter.\n",
    "\n",
    "The optimizer's behaviour can be customized by creating, modifying, and passing an `Options` object to the `Problem` constructor. Among other things, `Options` sets various thresholds and controls the optimizer's verbosity."
   ]
  },
  {
   "cell_type": "code",
   "execution_count": 134,
   "metadata": {
    "collapsed": true
   },
   "outputs": [],
   "source": [
    "options = Options()\n",
    "options.print_summary = True\n",
    "options.print_iter_summary = True\n",
    "\n",
    "problem = Problem(options)\n",
    "\n",
    "for x, y in zip(x_data, y_data):\n",
    "    cost = CubicCost(x, y)\n",
    "    problem.add_residual_block(cost, ['a','b','c','d'])\n",
    "    \n",
    "params_init = {'a': -2., 'b': 10., 'c': -6., 'd': -140.}\n",
    "problem.initialize_params(params_init)"
   ]
  },
  {
   "cell_type": "markdown",
   "metadata": {},
   "source": [
    "# Solve the problem and check the results"
   ]
  },
  {
   "cell_type": "code",
   "execution_count": 138,
   "metadata": {
    "collapsed": false
   },
   "outputs": [
    {
     "name": "stdout",
     "output_type": "stream",
     "text": [
      "build_precision_and_information: 0.02397 s\n",
      "spsolve: 0.00036 s\n",
      "do_line_search: 0.00057 s\n",
      "Iter:   1 | Cost: 5.358831e-28 --> 1.653477e-27  (+209%)\n",
      "Iterations:   1 | Cost: 5.358831e-28 --> 1.653477e-27  (+209%)\n",
      "a error: [ 0.]\n",
      "b error: [ 0.]\n",
      "c error: [-0.]\n",
      "d error: [-0.]\n"
     ]
    },
    {
     "data": {
      "image/png": "[encoded data removed]",
      "text/plain": [
       "<matplotlib.figure.Figure at 0x113c0ba20>"
      ]
     },
     "metadata": {},
     "output_type": "display_data"
    }
   ],
   "source": [
    "params_final = problem.solve()\n",
    "\n",
    "for (key, p_final), p_true in zip(params_final.items(), params_true.values()):\n",
    "    print('{} error: {}'.format(key, p_true - p_final))\n",
    "    \n",
    "x_plot = np.linspace(-5,5,100)\n",
    "y_est_init = evaluate_cubic(params_init['a'],params_init['b'],params_init['c'],params_init['d'],x_plot)\n",
    "y_est_final = evaluate_cubic(params_final['a'],params_final['b'],params_final['c'],params_final['d'],x_plot)\n",
    "\n",
    "plt.scatter(x_data, y_data, 50., 'k')\n",
    "plt.plot(x_plot, y_est_init, 'r')\n",
    "plt.plot(x_plot, y_est_final, 'b')\n",
    "plt.legend(('initial fit', 'final fit', 'data'))\n",
    "plt.show()"
   ]
  },
  {
   "cell_type": "markdown",
   "metadata": {},
   "source": [
    "# Optional: Compute the covariance of the final parameter estimates\n",
    "\n",
    "You can compute the covariance of the parameter estimates using `Problem.compute_covariance`. Once you've done that, you can obtain the covariance of any pair of parameters using the convenience method `Problem.get_covariance_block`. If need be, you can access the full covariance matrix `Problem._covariance_matrix`."
   ]
  },
  {
   "cell_type": "code",
   "execution_count": 136,
   "metadata": {
    "collapsed": false
   },
   "outputs": [
    {
     "name": "stdout",
     "output_type": "stream",
     "text": [
      "variance of a: 0.00017205419580419603\n",
      "covariance of a and b: -2.2655492231125876e-20\n",
      "\n",
      "Full covariance matrix:\n",
      "[[ 0.00017205 -0.         -0.00311184 -0.        ]\n",
      " [-0.          0.00124261  0.         -0.01265625]\n",
      " [-0.00311184  0.          0.06610031  0.        ]\n",
      " [-0.         -0.01265625  0.          0.22890625]]\n"
     ]
    }
   ],
   "source": [
    "problem.compute_covariance()\n",
    "print('variance of a: {}'.format(problem.get_covariance_block('a','a')))\n",
    "print('covariance of a and b: {}'.format(problem.get_covariance_block('a','b')))\n",
    "print('\\nFull covariance matrix:\\n{}'.format(problem._covariance_matrix))"
   ]
  },
  {
   "cell_type": "code",
   "execution_count": null,
   "metadata": {
    "collapsed": true
   },
   "outputs": [],
   "source": []
  }
 ],
 "metadata": {
  "kernelspec": {
   "display_name": "Python 3",
   "language": "python",
   "name": "python3"
  },
  "language_info": {
   "codemirror_mode": {
    "name": "ipython",
    "version": 3
   },
   "file_extension": ".py",
   "mimetype": "text/x-python",
   "name": "python",
   "nbconvert_exporter": "python",
   "pygments_lexer": "ipython3",
   "version": "3.6.0"
  }
 },
 "nbformat": 4,
 "nbformat_minor": 2
}
