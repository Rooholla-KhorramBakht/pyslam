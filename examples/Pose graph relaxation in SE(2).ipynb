{
 "cells": [
  {
   "cell_type": "code",
   "execution_count": 1,
   "metadata": {
    "collapsed": true,
    "deletable": true,
    "editable": true
   },
   "outputs": [],
   "source": [
    "%matplotlib inline\n",
    "\n",
    "import numpy as np\n",
    "import matplotlib.pyplot as plt"
   ]
  },
  {
   "cell_type": "markdown",
   "metadata": {
    "deletable": true,
    "editable": true
   },
   "source": [
    "# Create data"
   ]
  },
  {
   "cell_type": "code",
   "execution_count": 2,
   "metadata": {
    "collapsed": true,
    "deletable": true,
    "editable": true
   },
   "outputs": [],
   "source": [
    "import copy\n",
    "from liegroups import SE2, SO2\n",
    "\n",
    "params_true = {'T_1_0': SE2.identity(),\n",
    "               'T_2_0': SE2(SO2.identity(), -np.array([0.5, 0])),\n",
    "               'T_3_0': SE2(SO2.identity(), -np.array([1, 0])),\n",
    "               'T_4_0': SE2(SO2.fromangle(np.pi / 2),\n",
    "                             -(SO2.fromangle(np.pi / 2) * np.array([1, 0.5]))),\n",
    "               'T_5_0': SE2(SO2.fromangle(np.pi),\n",
    "                             -(SO2.fromangle(np.pi) * np.array([0.5, 0.5]))),\n",
    "               'T_6_0': SE2(SO2.fromangle(-np.pi / 2),\n",
    "                             -(SO2.fromangle(-np.pi / 2) * np.array([0.5, 0])))}\n",
    "\n",
    "obs = {'T_1_0': params_true['T_1_0'],\n",
    "       'T_2_1': params_true['T_2_0'] * params_true['T_1_0'].inv(),\n",
    "       'T_3_2': params_true['T_3_0'] * params_true['T_2_0'].inv(),\n",
    "       'T_4_3': params_true['T_4_0'] * params_true['T_3_0'].inv(),\n",
    "       'T_5_4': params_true['T_5_0'] * params_true['T_4_0'].inv(),\n",
    "       'T_6_5': params_true['T_6_0'] * params_true['T_5_0'].inv(),\n",
    "       'T_6_2': params_true['T_6_0'] * params_true['T_2_0'].inv()}\n",
    "\n",
    "params_init = copy.deepcopy(params_true)\n",
    "for key in params_init.keys():\n",
    "    params_init[key] = SE2.exp(5 * np.random.rand(3)) * params_init[key]"
   ]
  },
  {
   "cell_type": "markdown",
   "metadata": {
    "deletable": true,
    "editable": true
   },
   "source": [
    "# Create cost functions"
   ]
  },
  {
   "cell_type": "code",
   "execution_count": 4,
   "metadata": {
    "collapsed": false,
    "deletable": true,
    "editable": true
   },
   "outputs": [
    {
     "ename": "AttributeError",
     "evalue": "module 'scipy' has no attribute 'linalg'",
     "output_type": "error",
     "traceback": [
      "\u001b[0;31m---------------------------------------------------------------------------\u001b[0m",
      "\u001b[0;31mAttributeError\u001b[0m                            Traceback (most recent call last)",
      "\u001b[0;32m<ipython-input-4-60d9c5f98678>\u001b[0m in \u001b[0;36m<module>\u001b[0;34m()\u001b[0m\n\u001b[1;32m      2\u001b[0m \u001b[0;32mfrom\u001b[0m \u001b[0mpyslam\u001b[0m\u001b[0;34m.\u001b[0m\u001b[0mutils\u001b[0m \u001b[0;32mimport\u001b[0m \u001b[0minvsqrt\u001b[0m\u001b[0;34m\u001b[0m\u001b[0m\n\u001b[1;32m      3\u001b[0m \u001b[0;34m\u001b[0m\u001b[0m\n\u001b[0;32m----> 4\u001b[0;31m \u001b[0mprior_stiffness\u001b[0m \u001b[0;34m=\u001b[0m \u001b[0minvsqrt\u001b[0m\u001b[0;34m(\u001b[0m\u001b[0;36m1e-12\u001b[0m \u001b[0;34m*\u001b[0m \u001b[0mnp\u001b[0m\u001b[0;34m.\u001b[0m\u001b[0midentity\u001b[0m\u001b[0;34m(\u001b[0m\u001b[0;36m3\u001b[0m\u001b[0;34m)\u001b[0m\u001b[0;34m)\u001b[0m\u001b[0;34m\u001b[0m\u001b[0m\n\u001b[0m\u001b[1;32m      5\u001b[0m \u001b[0modom_stiffness\u001b[0m \u001b[0;34m=\u001b[0m \u001b[0minvsqrt\u001b[0m\u001b[0;34m(\u001b[0m\u001b[0;36m1e-3\u001b[0m \u001b[0;34m*\u001b[0m \u001b[0mnp\u001b[0m\u001b[0;34m.\u001b[0m\u001b[0midentity\u001b[0m\u001b[0;34m(\u001b[0m\u001b[0;36m3\u001b[0m\u001b[0;34m)\u001b[0m\u001b[0;34m)\u001b[0m\u001b[0;34m\u001b[0m\u001b[0m\n\u001b[1;32m      6\u001b[0m \u001b[0mloop_stiffness\u001b[0m \u001b[0;34m=\u001b[0m \u001b[0minvsqrt\u001b[0m\u001b[0;34m(\u001b[0m\u001b[0;36m1e-3\u001b[0m \u001b[0;34m*\u001b[0m \u001b[0mnp\u001b[0m\u001b[0;34m.\u001b[0m\u001b[0midentity\u001b[0m\u001b[0;34m(\u001b[0m\u001b[0;36m3\u001b[0m\u001b[0;34m)\u001b[0m\u001b[0;34m)\u001b[0m\u001b[0;34m\u001b[0m\u001b[0m\n",
      "\u001b[0;32m/Users/leeclement/Documents/pyslam/pyslam/utils.py\u001b[0m in \u001b[0;36minvsqrt\u001b[0;34m(x)\u001b[0m\n\u001b[1;32m      7\u001b[0m     \u001b[0;34m\"\"\"Convenience function to compute the inverse square root of a scalar or a square matrix.\"\"\"\u001b[0m\u001b[0;34m\u001b[0m\u001b[0m\n\u001b[1;32m      8\u001b[0m     \u001b[0;32mif\u001b[0m \u001b[0mhasattr\u001b[0m\u001b[0;34m(\u001b[0m\u001b[0mx\u001b[0m\u001b[0;34m,\u001b[0m \u001b[0;34m'shape'\u001b[0m\u001b[0;34m)\u001b[0m\u001b[0;34m:\u001b[0m\u001b[0;34m\u001b[0m\u001b[0m\n\u001b[0;32m----> 9\u001b[0;31m         \u001b[0;32mreturn\u001b[0m \u001b[0mnp\u001b[0m\u001b[0;34m.\u001b[0m\u001b[0mlinalg\u001b[0m\u001b[0;34m.\u001b[0m\u001b[0minv\u001b[0m\u001b[0;34m(\u001b[0m\u001b[0msp\u001b[0m\u001b[0;34m.\u001b[0m\u001b[0mlinalg\u001b[0m\u001b[0;34m.\u001b[0m\u001b[0msqrtm\u001b[0m\u001b[0;34m(\u001b[0m\u001b[0mx\u001b[0m\u001b[0;34m)\u001b[0m\u001b[0;34m)\u001b[0m\u001b[0;34m\u001b[0m\u001b[0m\n\u001b[0m\u001b[1;32m     10\u001b[0m \u001b[0;34m\u001b[0m\u001b[0m\n\u001b[1;32m     11\u001b[0m     \u001b[0;32mreturn\u001b[0m \u001b[0;36m1.\u001b[0m \u001b[0;34m/\u001b[0m \u001b[0mnp\u001b[0m\u001b[0;34m.\u001b[0m\u001b[0msqrt\u001b[0m\u001b[0;34m(\u001b[0m\u001b[0mx\u001b[0m\u001b[0;34m)\u001b[0m\u001b[0;34m\u001b[0m\u001b[0m\n",
      "\u001b[0;31mAttributeError\u001b[0m: module 'scipy' has no attribute 'linalg'"
     ]
    }
   ],
   "source": [
    "from pyslam.costs import PoseCost, PoseToPoseCost\n",
    "from pyslam.utils import invsqrt\n",
    "\n",
    "prior_stiffness = invsqrt(1e-12 * np.identity(3))\n",
    "odom_stiffness = invsqrt(1e-3 * np.identity(3))\n",
    "loop_stiffness = invsqrt(1e-3 * np.identity(3))\n",
    "\n",
    "cost0 = PoseCost(obs['T_1_0'], prior_stiffness)\n",
    "cost0_params = ['T_1_0']\n",
    "\n",
    "cost1 = PoseToPoseCost(obs['T_2_1'], odom_stiffness)\n",
    "cost1_params = ['T_1_0', 'T_2_0']\n",
    "\n",
    "cost2 = PoseToPoseCost(obs['T_3_2'], odom_stiffness)\n",
    "cost2_params = ['T_2_0', 'T_3_0']\n",
    "\n",
    "cost3 = PoseToPoseCost(obs['T_4_3'], odom_stiffness)\n",
    "cost3_params = ['T_3_0', 'T_4_0']\n",
    "\n",
    "cost4 = PoseToPoseCost(obs['T_5_4'], odom_stiffness)\n",
    "cost4_params = ['T_4_0', 'T_5_0']\n",
    "\n",
    "cost5 = PoseToPoseCost(obs['T_6_5'], odom_stiffness)\n",
    "cost5_params = ['T_5_0', 'T_6_0']\n",
    "\n",
    "cost6 = PoseToPoseCost(obs['T_6_2'], loop_stiffness)\n",
    "cost6_params = ['T_2_0', 'T_6_0']"
   ]
  },
  {
   "cell_type": "markdown",
   "metadata": {
    "deletable": true,
    "editable": true
   },
   "source": [
    "# Set up and solve the problem"
   ]
  },
  {
   "cell_type": "code",
   "execution_count": null,
   "metadata": {
    "collapsed": false,
    "deletable": true,
    "editable": true
   },
   "outputs": [],
   "source": [
    "from pyslam.problem import Problem, Options\n",
    "\n",
    "options = Options()\n",
    "options.allow_nondecreasing_steps = True\n",
    "options.max_nondecreasing_steps = 3\n",
    "options.print_iter_summary = True\n",
    "\n",
    "problem = Problem(options)\n",
    "\n",
    "problem.add_residual_block(cost0, cost0_params)\n",
    "problem.add_residual_block(cost1, cost1_params)\n",
    "problem.add_residual_block(cost2, cost2_params)\n",
    "problem.add_residual_block(cost3, cost3_params)\n",
    "problem.add_residual_block(cost4, cost4_params)\n",
    "problem.add_residual_block(cost5, cost5_params)\n",
    "# problem.add_residual_block(cost6, cost6_params)\n",
    "\n",
    "problem.initialize_params(params_init)\n",
    "\n",
    "params_final = problem.solve()"
   ]
  },
  {
   "cell_type": "markdown",
   "metadata": {
    "deletable": true,
    "editable": true
   },
   "source": [
    "# Check results"
   ]
  },
  {
   "cell_type": "code",
   "execution_count": null,
   "metadata": {
    "collapsed": false,
    "deletable": true,
    "editable": true
   },
   "outputs": [],
   "source": [
    "print(\"Initial Error:\")\n",
    "for key in params_true.keys():\n",
    "    print('{}: {}'.format(key, SE2.log(params_init[key].inv() * params_true[key])))\n",
    "\n",
    "print()\n",
    "\n",
    "print(\"Final Error:\")\n",
    "for key in params_true.keys():\n",
    "    print('{}: {}'.format(key, SE2.log(params_final[key].inv() * params_true[key])))"
   ]
  },
  {
   "cell_type": "markdown",
   "metadata": {
    "deletable": true,
    "editable": true
   },
   "source": [
    "# Optional: Compute the covariance of the final parameter estimates"
   ]
  },
  {
   "cell_type": "code",
   "execution_count": null,
   "metadata": {
    "collapsed": false,
    "deletable": true,
    "editable": true
   },
   "outputs": [],
   "source": [
    "problem.compute_covariance()\n",
    "print('covariance of T_5_0:\\n{}'.format( problem.get_covariance_block('T_5_0','T_5_0') ))"
   ]
  },
  {
   "cell_type": "code",
   "execution_count": null,
   "metadata": {
    "collapsed": true,
    "deletable": true,
    "editable": true
   },
   "outputs": [],
   "source": []
  },
  {
   "cell_type": "code",
   "execution_count": null,
   "metadata": {
    "collapsed": true
   },
   "outputs": [],
   "source": []
  }
 ],
 "metadata": {
  "kernelspec": {
   "display_name": "Python 3",
   "language": "python",
   "name": "python3"
  },
  "language_info": {
   "codemirror_mode": {
    "name": "ipython",
    "version": 3
   },
   "file_extension": ".py",
   "mimetype": "text/x-python",
   "name": "python",
   "nbconvert_exporter": "python",
   "pygments_lexer": "ipython3",
   "version": "3.6.0"
  }
 },
 "nbformat": 4,
 "nbformat_minor": 2
}
